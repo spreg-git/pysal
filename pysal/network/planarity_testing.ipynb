{
 "metadata": {
  "name": ""
 },
 "nbformat": 3,
 "nbformat_minor": 0,
 "worksheets": [
  {
   "cells": [
    {
     "cell_type": "code",
     "collapsed": false,
     "input": [
      "import util\n",
      "import pysal as ps"
     ],
     "language": "python",
     "metadata": {},
     "outputs": [],
     "prompt_number": 1
    },
    {
     "cell_type": "code",
     "collapsed": false,
     "input": [
      "lat = ps.lat2W(3,3)\n",
      "        "
     ],
     "language": "python",
     "metadata": {},
     "outputs": [],
     "prompt_number": 2
    },
    {
     "cell_type": "code",
     "collapsed": false,
     "input": [
      "import numpy as np\n"
     ],
     "language": "python",
     "metadata": {},
     "outputs": [],
     "prompt_number": 3
    },
    {
     "cell_type": "code",
     "collapsed": false,
     "input": [
      "ijs = np.indices((3,3))"
     ],
     "language": "python",
     "metadata": {},
     "outputs": [],
     "prompt_number": 4
    },
    {
     "cell_type": "code",
     "collapsed": false,
     "input": [
      "rows = ijs[0].flatten()\n",
      "cols = ijs[1].flatten()"
     ],
     "language": "python",
     "metadata": {},
     "outputs": [],
     "prompt_number": 5
    },
    {
     "cell_type": "code",
     "collapsed": false,
     "input": [
      "lat.neighbors"
     ],
     "language": "python",
     "metadata": {},
     "outputs": [
      {
       "metadata": {},
       "output_type": "pyout",
       "prompt_number": 6,
       "text": [
        "{0: [3, 1],\n",
        " 1: [0, 4, 2],\n",
        " 2: [1, 5],\n",
        " 3: [0, 6, 4],\n",
        " 4: [1, 3, 7, 5],\n",
        " 5: [2, 4, 8],\n",
        " 6: [3, 7],\n",
        " 7: [4, 6, 8],\n",
        " 8: [5, 7]}"
       ]
      }
     ],
     "prompt_number": 6
    },
    {
     "cell_type": "code",
     "collapsed": false,
     "input": [
      "segments = []\n",
      "for i in lat.neighbors.keys():\n",
      "    i_neighs = lat.neighbors[i]\n",
      "    for j in i_neighs:\n",
      "        if j > i:\n",
      "            segment = [ (rows[i], cols[i]), (rows[j], cols[j]) ]\n",
      "            segments.append(segment)\n",
      "    "
     ],
     "language": "python",
     "metadata": {},
     "outputs": [],
     "prompt_number": 7
    },
    {
     "cell_type": "code",
     "collapsed": false,
     "input": [
      "segments"
     ],
     "language": "python",
     "metadata": {},
     "outputs": [
      {
       "metadata": {},
       "output_type": "pyout",
       "prompt_number": 8,
       "text": [
        "[[(0, 0), (1, 0)],\n",
        " [(0, 0), (0, 1)],\n",
        " [(0, 1), (1, 1)],\n",
        " [(0, 1), (0, 2)],\n",
        " [(0, 2), (1, 2)],\n",
        " [(1, 0), (2, 0)],\n",
        " [(1, 0), (1, 1)],\n",
        " [(1, 1), (2, 1)],\n",
        " [(1, 1), (1, 2)],\n",
        " [(1, 2), (2, 2)],\n",
        " [(2, 0), (2, 1)],\n",
        " [(2, 1), (2, 2)]]"
       ]
      }
     ],
     "prompt_number": 8
    },
    {
     "cell_type": "code",
     "collapsed": false,
     "input": [
      "util.intersection_sweep(segments)"
     ],
     "language": "python",
     "metadata": {},
     "outputs": [
      {
       "metadata": {},
       "output_type": "pyout",
       "prompt_number": 9,
       "text": [
        "[(0, 1), (2, 3), (5, 6), (6, 2), (7, 8), (8, 4), (10, 7), (11, 9)]"
       ]
      }
     ],
     "prompt_number": 9
    },
    {
     "cell_type": "code",
     "collapsed": false,
     "input": [
      "segments[0]"
     ],
     "language": "python",
     "metadata": {},
     "outputs": [
      {
       "metadata": {},
       "output_type": "pyout",
       "prompt_number": 10,
       "text": [
        "[(0, 0), (1, 0)]"
       ]
      }
     ],
     "prompt_number": 10
    },
    {
     "cell_type": "code",
     "collapsed": false,
     "input": [
      "segments[1]"
     ],
     "language": "python",
     "metadata": {},
     "outputs": [
      {
       "metadata": {},
       "output_type": "pyout",
       "prompt_number": 11,
       "text": [
        "[(0, 0), (0, 1)]"
       ]
      }
     ],
     "prompt_number": 11
    },
    {
     "cell_type": "code",
     "collapsed": false,
     "input": [
      "segments[11]\n"
     ],
     "language": "python",
     "metadata": {},
     "outputs": [
      {
       "metadata": {},
       "output_type": "pyout",
       "prompt_number": 12,
       "text": [
        "[(2, 1), (2, 2)]"
       ]
      }
     ],
     "prompt_number": 12
    },
    {
     "cell_type": "code",
     "collapsed": false,
     "input": [
      "segments[9]"
     ],
     "language": "python",
     "metadata": {},
     "outputs": [
      {
       "metadata": {},
       "output_type": "pyout",
       "prompt_number": 13,
       "text": [
        "[(1, 2), (2, 2)]"
       ]
      }
     ],
     "prompt_number": 13
    },
    {
     "cell_type": "code",
     "collapsed": false,
     "input": [
      "util.isPlanar(segments)"
     ],
     "language": "python",
     "metadata": {},
     "outputs": [
      {
       "metadata": {},
       "output_type": "pyout",
       "prompt_number": 14,
       "text": [
        "True"
       ]
      }
     ],
     "prompt_number": 14
    },
    {
     "cell_type": "code",
     "collapsed": false,
     "input": [
      "segments.append( [ (1.5, 1.5), (1.5, 2.5) ] )"
     ],
     "language": "python",
     "metadata": {},
     "outputs": [],
     "prompt_number": 15
    },
    {
     "cell_type": "code",
     "collapsed": false,
     "input": [
      "segments"
     ],
     "language": "python",
     "metadata": {},
     "outputs": [
      {
       "metadata": {},
       "output_type": "pyout",
       "prompt_number": 16,
       "text": [
        "[[(0, 0), (1, 0)],\n",
        " [(0, 0), (0, 1)],\n",
        " [(0, 1), (1, 1)],\n",
        " [(0, 1), (0, 2)],\n",
        " [(0, 2), (1, 2)],\n",
        " [(1, 0), (2, 0)],\n",
        " [(1, 0), (1, 1)],\n",
        " [(1, 1), (2, 1)],\n",
        " [(1, 1), (1, 2)],\n",
        " [(1, 2), (2, 2)],\n",
        " [(2, 0), (2, 1)],\n",
        " [(2, 1), (2, 2)],\n",
        " [(1.5, 1.5), (1.5, 2.5)]]"
       ]
      }
     ],
     "prompt_number": 16
    },
    {
     "cell_type": "code",
     "collapsed": false,
     "input": [
      "util.isPlanar(segments)"
     ],
     "language": "python",
     "metadata": {},
     "outputs": [
      {
       "metadata": {},
       "output_type": "pyout",
       "prompt_number": 17,
       "text": [
        "False"
       ]
      }
     ],
     "prompt_number": 17
    },
    {
     "cell_type": "code",
     "collapsed": false,
     "input": [
      "segments[9]"
     ],
     "language": "python",
     "metadata": {},
     "outputs": [
      {
       "metadata": {},
       "output_type": "pyout",
       "prompt_number": 18,
       "text": [
        "[(1, 2), (2, 2)]"
       ]
      }
     ],
     "prompt_number": 18
    },
    {
     "cell_type": "code",
     "collapsed": false,
     "input": [
      "segments[12]"
     ],
     "language": "python",
     "metadata": {},
     "outputs": [
      {
       "metadata": {},
       "output_type": "pyout",
       "prompt_number": 19,
       "text": [
        "[(1.5, 1.5), (1.5, 2.5)]"
       ]
      }
     ],
     "prompt_number": 19
    },
    {
     "cell_type": "code",
     "collapsed": false,
     "input": [
      "segments.pop()"
     ],
     "language": "python",
     "metadata": {},
     "outputs": [
      {
       "metadata": {},
       "output_type": "pyout",
       "prompt_number": 20,
       "text": [
        "[(1.5, 1.5), (1.5, 2.5)]"
       ]
      }
     ],
     "prompt_number": 20
    },
    {
     "cell_type": "code",
     "collapsed": false,
     "input": [
      "segments"
     ],
     "language": "python",
     "metadata": {},
     "outputs": [
      {
       "metadata": {},
       "output_type": "pyout",
       "prompt_number": 21,
       "text": [
        "[[(0, 0), (1, 0)],\n",
        " [(0, 0), (0, 1)],\n",
        " [(0, 1), (1, 1)],\n",
        " [(0, 1), (0, 2)],\n",
        " [(0, 2), (1, 2)],\n",
        " [(1, 0), (2, 0)],\n",
        " [(1, 0), (1, 1)],\n",
        " [(1, 1), (2, 1)],\n",
        " [(1, 1), (1, 2)],\n",
        " [(1, 2), (2, 2)],\n",
        " [(2, 0), (2, 1)],\n",
        " [(2, 1), (2, 2)]]"
       ]
      }
     ],
     "prompt_number": 21
    },
    {
     "cell_type": "code",
     "collapsed": false,
     "input": [
      "segments.append([(3,3), (4,4)])\n",
      "util.isPlanar(segments)"
     ],
     "language": "python",
     "metadata": {},
     "outputs": [
      {
       "metadata": {},
       "output_type": "pyout",
       "prompt_number": 22,
       "text": [
        "True"
       ]
      }
     ],
     "prompt_number": 22
    },
    {
     "cell_type": "code",
     "collapsed": false,
     "input": [
      "segments.pop()\n",
      "segments.append([(-1,0.5), (3, 0.5)])\n",
      "util.isPlanar(segments)"
     ],
     "language": "python",
     "metadata": {},
     "outputs": [
      {
       "metadata": {},
       "output_type": "pyout",
       "prompt_number": 23,
       "text": [
        "False"
       ]
      }
     ],
     "prompt_number": 23
    },
    {
     "cell_type": "code",
     "collapsed": false,
     "input": [
      "segments.pop()\n",
      "segments.append([(2, 0.5), (3, 0.5)])\n",
      "util.isPlanar(segments)"
     ],
     "language": "python",
     "metadata": {},
     "outputs": [
      {
       "metadata": {},
       "output_type": "pyout",
       "prompt_number": 24,
       "text": [
        "True"
       ]
      }
     ],
     "prompt_number": 24
    },
    {
     "cell_type": "code",
     "collapsed": false,
     "input": [
      "segments"
     ],
     "language": "python",
     "metadata": {},
     "outputs": [
      {
       "metadata": {},
       "output_type": "pyout",
       "prompt_number": 25,
       "text": [
        "[[(0, 0), (1, 0)],\n",
        " [(0, 0), (0, 1)],\n",
        " [(0, 1), (1, 1)],\n",
        " [(0, 1), (0, 2)],\n",
        " [(0, 2), (1, 2)],\n",
        " [(1, 0), (2, 0)],\n",
        " [(1, 0), (1, 1)],\n",
        " [(1, 1), (2, 1)],\n",
        " [(1, 1), (1, 2)],\n",
        " [(1, 2), (2, 2)],\n",
        " [(2, 0), (2, 1)],\n",
        " [(2, 1), (2, 2)],\n",
        " [(2, 0.5), (3, 0.5)]]"
       ]
      }
     ],
     "prompt_number": 25
    },
    {
     "cell_type": "code",
     "collapsed": false,
     "input": [
      "segments.pop()\n",
      "segments.append([(1.99, 0.5), (3, 0.5)])\n",
      "util.isPlanar(segments)"
     ],
     "language": "python",
     "metadata": {},
     "outputs": [
      {
       "metadata": {},
       "output_type": "pyout",
       "prompt_number": 26,
       "text": [
        "False"
       ]
      }
     ],
     "prompt_number": 26
    },
    {
     "cell_type": "code",
     "collapsed": false,
     "input": [
      "nps = ps.open(ps.examples.get_path(\"nonplanarsegments.shp\"))"
     ],
     "language": "python",
     "metadata": {},
     "outputs": [],
     "prompt_number": 28
    },
    {
     "cell_type": "code",
     "collapsed": false,
     "input": [
      "shps = []\n",
      "for shp in nps:\n",
      "    shps.append(shp)"
     ],
     "language": "python",
     "metadata": {},
     "outputs": [],
     "prompt_number": 29
    },
    {
     "cell_type": "code",
     "collapsed": false,
     "input": [
      "shps"
     ],
     "language": "python",
     "metadata": {},
     "outputs": [
      {
       "metadata": {},
       "output_type": "pyout",
       "prompt_number": 30,
       "text": [
        "[<pysal.cg.shapes.Chain at 0x10c693910>,\n",
        " <pysal.cg.shapes.Chain at 0x10c693950>]"
       ]
      }
     ],
     "prompt_number": 30
    },
    {
     "cell_type": "code",
     "collapsed": false,
     "input": [
      "shp0 = shps[0]"
     ],
     "language": "python",
     "metadata": {},
     "outputs": [],
     "prompt_number": 31
    },
    {
     "cell_type": "code",
     "collapsed": false,
     "input": [
      "shp0.parts"
     ],
     "language": "python",
     "metadata": {},
     "outputs": [
      {
       "metadata": {},
       "output_type": "pyout",
       "prompt_number": 32,
       "text": [
        "[[(-1.1985106330305788, 1.4774750507666439),\n",
        "  (-0.9903526502389919, 1.5065633633861468),\n",
        "  (-0.9861491368546706, 1.445192067975057)]]"
       ]
      }
     ],
     "prompt_number": 32
    },
    {
     "cell_type": "code",
     "collapsed": false,
     "input": [
      "shp0.vertices"
     ],
     "language": "python",
     "metadata": {},
     "outputs": [
      {
       "metadata": {},
       "output_type": "pyout",
       "prompt_number": 33,
       "text": [
        "[(-1.1985106330305788, 1.4774750507666439),\n",
        " (-0.9903526502389919, 1.5065633633861468),\n",
        " (-0.9861491368546706, 1.445192067975057)]"
       ]
      }
     ],
     "prompt_number": 33
    },
    {
     "cell_type": "code",
     "collapsed": false,
     "input": [
      "shp1 = shps[1]"
     ],
     "language": "python",
     "metadata": {},
     "outputs": [],
     "prompt_number": 36
    },
    {
     "cell_type": "code",
     "collapsed": false,
     "input": [
      "shp1.vertices"
     ],
     "language": "python",
     "metadata": {},
     "outputs": [
      {
       "metadata": {},
       "output_type": "pyout",
       "prompt_number": 37,
       "text": [
        "[(-1.1986787735659516, 1.510935017305841),\n",
        " (-1.035750594789661, 1.5134571253364335),\n",
        " (-1.0154055900095464, 1.4636875268660703)]"
       ]
      }
     ],
     "prompt_number": 37
    },
    {
     "cell_type": "code",
     "collapsed": false,
     "input": [
      "segments = []\n",
      "for shp in shps:\n",
      "    ns = len(shp.vertices) - 1\n",
      "    for i in range(ns):\n",
      "        a = shp.vertices[i]\n",
      "        b = shp.vertices[i+1]\n",
      "        segment = [a, b]\n",
      "        segments.append(segment)"
     ],
     "language": "python",
     "metadata": {},
     "outputs": [],
     "prompt_number": 38
    },
    {
     "cell_type": "code",
     "collapsed": false,
     "input": [
      "segments"
     ],
     "language": "python",
     "metadata": {},
     "outputs": [
      {
       "metadata": {},
       "output_type": "pyout",
       "prompt_number": 39,
       "text": [
        "[[(-1.1985106330305788, 1.4774750507666439),\n",
        "  (-0.9903526502389919, 1.5065633633861468)],\n",
        " [(-0.9903526502389919, 1.5065633633861468),\n",
        "  (-0.9861491368546706, 1.445192067975057)],\n",
        " [(-1.1986787735659516, 1.510935017305841),\n",
        "  (-1.035750594789661, 1.5134571253364335)],\n",
        " [(-1.035750594789661, 1.5134571253364335),\n",
        "  (-1.0154055900095464, 1.4636875268660703)]]"
       ]
      }
     ],
     "prompt_number": 39
    },
    {
     "cell_type": "code",
     "collapsed": false,
     "input": [
      "util.isPlanar(segments)"
     ],
     "language": "python",
     "metadata": {},
     "outputs": [
      {
       "metadata": {},
       "output_type": "pyout",
       "prompt_number": 40,
       "text": [
        "False"
       ]
      }
     ],
     "prompt_number": 40
    },
    {
     "cell_type": "code",
     "collapsed": false,
     "input": [
      "s1 = segments[0:2]"
     ],
     "language": "python",
     "metadata": {},
     "outputs": [],
     "prompt_number": 41
    },
    {
     "cell_type": "code",
     "collapsed": false,
     "input": [
      "s1"
     ],
     "language": "python",
     "metadata": {},
     "outputs": [
      {
       "metadata": {},
       "output_type": "pyout",
       "prompt_number": 42,
       "text": [
        "[[(-1.1985106330305788, 1.4774750507666439),\n",
        "  (-0.9903526502389919, 1.5065633633861468)],\n",
        " [(-0.9903526502389919, 1.5065633633861468),\n",
        "  (-0.9861491368546706, 1.445192067975057)]]"
       ]
      }
     ],
     "prompt_number": 42
    },
    {
     "cell_type": "code",
     "collapsed": false,
     "input": [
      "util.isPlanar(s1)"
     ],
     "language": "python",
     "metadata": {},
     "outputs": [
      {
       "metadata": {},
       "output_type": "pyout",
       "prompt_number": 43,
       "text": [
        "True"
       ]
      }
     ],
     "prompt_number": 43
    },
    {
     "cell_type": "code",
     "collapsed": false,
     "input": [],
     "language": "python",
     "metadata": {},
     "outputs": []
    }
   ],
   "metadata": {}
  }
 ]
}