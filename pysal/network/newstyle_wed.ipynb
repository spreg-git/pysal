{
 "metadata": {
  "name": ""
 },
 "nbformat": 3,
 "nbformat_minor": 0,
 "worksheets": [
  {
   "cells": [
    {
     "cell_type": "code",
     "collapsed": false,
     "input": [
      "try:\n",
      "    reload(data)\n",
      "except:\n",
      "    import data\n",
      "\n",
      "try:\n",
      "    reload(fileio)\n",
      "except:\n",
      "    import fileio\n",
      "\n",
      "try:\n",
      "    reload(util)\n",
      "except:\n",
      "    import util\n",
      "try:\n",
      "    reload(networkw)\n",
      "except:\n",
      "    import networkw\n",
      "import pysal as ps\n",
      "import time"
     ],
     "language": "python",
     "metadata": {},
     "outputs": [],
     "prompt_number": 22
    },
    {
     "cell_type": "code",
     "collapsed": false,
     "input": [
      "coords, edges = fileio.reader(ps.examples.get_path(\"streets_net.shp\"))\n",
      "s_wed = data.WED(edges, coords)"
     ],
     "language": "python",
     "metadata": {},
     "outputs": [],
     "prompt_number": 2
    },
    {
     "cell_type": "heading",
     "level": 3,
     "metadata": {},
     "source": [
      "Single node insertion"
     ]
    },
    {
     "cell_type": "code",
     "collapsed": false,
     "input": [
      "s_wed = util.insert_node(s_wed, (70,219), 10)\n",
      "print s_wed.enum_links_node(70)\n",
      "s_wed.enum_links_node(230)"
     ],
     "language": "python",
     "metadata": {},
     "outputs": [
      {
       "output_type": "stream",
       "stream": "stdout",
       "text": [
        "[(70, 230), (57, 70), (218, 70), (71, 70)]\n"
       ]
      },
      {
       "metadata": {},
       "output_type": "pyout",
       "prompt_number": 3,
       "text": [
        "[(70, 230), (230, 219)]"
       ]
      }
     ],
     "prompt_number": 3
    },
    {
     "cell_type": "heading",
     "level": 3,
     "metadata": {},
     "source": [
      "Edge Segmentation using Count per segment"
     ]
    },
    {
     "cell_type": "code",
     "collapsed": false,
     "input": [
      "#Rebuild the WED so mutiple runs do note segment a segmented nework (is works, but slow)\n",
      "coords, edges = fileio.reader(ps.examples.get_path(\"streets_net.shp\"))\n",
      "s_wed = data.WED(edges, coords)\n",
      "\n",
      "s_wed = util.segment_edges(s_wed, count=7)\n",
      "len(s_wed.edge_list)"
     ],
     "language": "python",
     "metadata": {},
     "outputs": [
      {
       "metadata": {},
       "output_type": "pyout",
       "prompt_number": 24,
       "text": [
        "4242"
       ]
      }
     ],
     "prompt_number": 24
    },
    {
     "cell_type": "heading",
     "level": 3,
     "metadata": {},
     "source": [
      "Edge Segmentation using Distance"
     ]
    },
    {
     "cell_type": "code",
     "collapsed": false,
     "input": [
      "#Rebuild the WED so mutiple runs do note segment a segmented nework (is works, but slow)\n",
      "coords, edges = fileio.reader(ps.examples.get_path(\"streets_net.shp\"))\n",
      "s_wed = data.WED(edges, coords)\n",
      "\n",
      "print len(s_wed.edge_list)\n",
      "\n",
      "s_wed = util.segment_edges(s_wed, distance=150)\n",
      "len(s_wed.edge_list)"
     ],
     "language": "python",
     "metadata": {},
     "outputs": [
      {
       "output_type": "stream",
       "stream": "stdout",
       "text": [
        "606\n"
       ]
      },
      {
       "metadata": {},
       "output_type": "pyout",
       "prompt_number": 25,
       "text": [
        "1664"
       ]
      }
     ],
     "prompt_number": 25
    },
    {
     "cell_type": "heading",
     "level": 3,
     "metadata": {},
     "source": [
      "Generate a W object using KNN from edge start"
     ]
    },
    {
     "cell_type": "code",
     "collapsed": false,
     "input": [
      "#Rebuild the WED so don't have a segmented graph\n",
      "coords, edges = fileio.reader(ps.examples.get_path(\"streets_net.shp\"))\n",
      "s_wed = data.WED(edges, coords)\n",
      "\n",
      "t1 = time.time()\n",
      "knn = networkw.w_knn(s_wed, 2)\n",
      "t2 = time.time()\n",
      "print t2 - t1\n",
      "print knn.neighbors[0]"
     ],
     "language": "python",
     "metadata": {},
     "outputs": [
      {
       "output_type": "stream",
       "stream": "stdout",
       "text": [
        "1.00093793869\n",
        "[1, 110]\n"
       ]
      }
     ],
     "prompt_number": 11
    },
    {
     "cell_type": "heading",
     "level": 3,
     "metadata": {},
     "source": [
      "Generate a W based on link contiguity (first order)    "
     ]
    },
    {
     "cell_type": "code",
     "collapsed": false,
     "input": [
      "#Rebuild the WED so don't have a segmented graph\n",
      "coords, edges = fileio.reader(ps.examples.get_path(\"streets_net.shp\"))\n",
      "s_wed = data.WED(edges, coords)\n",
      "\n",
      "netw = networkw.w_links(s_wed)\n",
      "netw.histogram"
     ],
     "language": "python",
     "metadata": {},
     "outputs": [
      {
       "output_type": "pyout",
       "prompt_number": 18,
       "text": [
        "[(2, 35), (3, 89), (4, 105), (5, 61), (6, 13)]"
       ]
      }
     ],
     "prompt_number": 18
    },
    {
     "cell_type": "heading",
     "level": 3,
     "metadata": {},
     "source": [
      "Generate a W object based on a distance threshold"
     ]
    },
    {
     "cell_type": "code",
     "collapsed": false,
     "input": [
      "#Rebuild the WED so don't have a segmented graph\n",
      "coords, edges = fileio.reader(ps.examples.get_path(\"streets_net.shp\"))\n",
      "s_wed = data.WED(edges, coords)\n",
      "\n",
      "distw = networkw.w_distance(s_wed, 1000)\n",
      "distw.histogram"
     ],
     "language": "python",
     "metadata": {},
     "outputs": [
      {
       "output_type": "pyout",
       "prompt_number": 27,
       "text": [
        "[(5, 1),\n",
        " (6, 2),\n",
        " (7, 6),\n",
        " (8, 13),\n",
        " (9, 17),\n",
        " (10, 22),\n",
        " (11, 37),\n",
        " (12, 40),\n",
        " (13, 28),\n",
        " (14, 24),\n",
        " (15, 18),\n",
        " (16, 13),\n",
        " (17, 5),\n",
        " (18, 3),\n",
        " (19, 0),\n",
        " (20, 1)]"
       ]
      }
     ],
     "prompt_number": 27
    },
    {
     "cell_type": "heading",
     "level": 3,
     "metadata": {},
     "source": [
      "Snap observations to the network"
     ]
    },
    {
     "cell_type": "code",
     "collapsed": false,
     "input": [
      "#Rebuild the WED so don't have a segmented graph\n",
      "coords, edges = fileio.reader(ps.examples.get_path(\"streets_net.shp\"))\n",
      "s_wed = data.WED(edges, coords)\n",
      "\n",
      "#Read in the new shapefile of sample data to get both geometry and attribute.\n",
      "geomshp = ps.open('../examples/street_net_pts.shp')\n",
      "geoms = [geom for geom in geomshp]\n",
      "geomshp.close()\n",
      "\n",
      "dbfshp = ps.open('../examples/street_net_pts.dbf')\n",
      "attribs = [row[0] for row in dbfshp] #This is super boring, just a list of integers from 0 to 302.\n",
      "dbfshp.close()\n",
      "\n",
      "obs_to_edge = util.snap_to_edges(s_wed,geoms)"
     ],
     "language": "python",
     "metadata": {},
     "outputs": [],
     "prompt_number": 13
    },
    {
     "cell_type": "heading",
     "level": 4,
     "metadata": {},
     "source": [
      "Get a count per edge of the snapped points"
     ]
    },
    {
     "cell_type": "code",
     "collapsed": false,
     "input": [
      "counts = util.count_per_edge(obs_to_edge)\n",
      "counts[(13,12)]"
     ],
     "language": "python",
     "metadata": {},
     "outputs": [
      {
       "output_type": "pyout",
       "prompt_number": 16,
       "text": [
        "3"
       ]
      }
     ],
     "prompt_number": 16
    },
    {
     "cell_type": "heading",
     "level": 4,
     "metadata": {},
     "source": [
      "Optionally write out the points as a list and save for visualization"
     ]
    },
    {
     "cell_type": "code",
     "collapsed": false,
     "input": [
      "#Prints the assignments in the form edge point_id x_coord y_coord\n",
      "# Save to .txt and add to QGIS as a text deliminated layer to visualize\n",
      "\n",
      "for k, edge in obs_to_edge.iteritems():\n",
      "    if len(edge) is 1:\n",
      "        print str(k)[1:-1].replace(\" \", \"\"), edge.keys()[0], edge.values()[0][0], edge.values()[0][1]\n",
      "    else:\n",
      "        for x in range(len(edge)):\n",
      "            print str(k)[1:-1], edge.keys()[x], edge.values()[x][0], edge.values()[x][1]"
     ],
     "language": "python",
     "metadata": {},
     "outputs": [
      {
       "output_type": "pyout",
       "prompt_number": 609,
       "text": [
        "'\\nfor k, edge in obs_to_edge.iteritems():\\n    if len(edge) is 1:\\n        print str(k)[1:-1].replace(\" \", \"\"), edge.keys()[0], edge.values()[0][0], edge.values()[0][1]\\n    else:\\n        for x in range(len(edge)):\\n            print str(k)[1:-1], edge.keys()[x], edge.values()[x][0], edge.values()[x][1]\\n'"
       ]
      }
     ],
     "prompt_number": 609
    },
    {
     "cell_type": "heading",
     "level": 3,
     "metadata": {},
     "source": [
      "Generate simulated observations on the network"
     ]
    },
    {
     "cell_type": "code",
     "collapsed": false,
     "input": [
      "random_pts = util.simulate_observations(s_wed, 5)\n",
      "print random_pts"
     ],
     "language": "python",
     "metadata": {},
     "outputs": [
      {
       "output_type": "stream",
       "stream": "stdout",
       "text": [
        "{(93, 94): [(728639.18368932675, 879645.68635714625)], (167, 44): [(726017.72785304987, 879479.02101762441)], (137, 139): [(724308.35776560265, 878219.14557050238)], (12, 179): [(725250.03063109715, 878018.64131360012)], (188, 80): [(726830.28910565702, 879590.50741512387)]}\n"
       ]
      }
     ],
     "prompt_number": 31
    },
    {
     "cell_type": "heading",
     "level": 3,
     "metadata": {},
     "source": [
      "Get the length of all the edges"
     ]
    },
    {
     "cell_type": "code",
     "collapsed": false,
     "input": [
      "length = s_wed.edge_length()\n",
      "print length[(215,189)]\n",
      "print length[(189,215)]"
     ],
     "language": "python",
     "metadata": {},
     "outputs": [
      {
       "output_type": "stream",
       "stream": "stdout",
       "text": [
        "660.0\n",
        "660.0\n"
       ]
      }
     ],
     "prompt_number": 17
    },
    {
     "cell_type": "heading",
     "level": 3,
     "metadata": {},
     "source": [
      "Get the shortest path between a node and all other nodes"
     ]
    },
    {
     "cell_type": "code",
     "collapsed": false,
     "input": [
      "length = util.edge_length(s_wed)\n",
      "distance, pred = util.dijkstra(s_wed, length, 32)\n",
      "path = util.shortest_path(s_wed, length, 9, 1)\n",
      "path"
     ],
     "language": "python",
     "metadata": {},
     "outputs": [
      {
       "output_type": "pyout",
       "prompt_number": 20,
       "text": [
        "[1,\n",
        " 0,\n",
        " 2,\n",
        " 170,\n",
        " 19,\n",
        " 20,\n",
        " 22,\n",
        " 23,\n",
        " 3,\n",
        " 4,\n",
        " 166,\n",
        " 200,\n",
        " 201,\n",
        " 43,\n",
        " 218,\n",
        " 70,\n",
        " 71,\n",
        " 72,\n",
        " 6,\n",
        " 5,\n",
        " 9]"
       ]
      }
     ],
     "prompt_number": 20
    },
    {
     "cell_type": "heading",
     "level": 3,
     "metadata": {},
     "source": [
      "Check that the graph is connected"
     ]
    },
    {
     "cell_type": "code",
     "collapsed": false,
     "input": [
      "connected = util.check_connectivity(s_wed, length)\n",
      "print \"The geodanet shapefile is a connected graph: {}\".format(connected)"
     ],
     "language": "python",
     "metadata": {},
     "outputs": [
      {
       "output_type": "stream",
       "stream": "stdout",
       "text": [
        "The geodanet shapefile is a connected graph: True\n"
       ]
      }
     ],
     "prompt_number": 22
    },
    {
     "cell_type": "heading",
     "level": 4,
     "metadata": {},
     "source": [
      "Check the Eberly graph to see if that network is connected."
     ]
    },
    {
     "cell_type": "code",
     "collapsed": false,
     "input": [
      "coords, edges = fileio.reader(ps.examples.get_path(\"eberly_net.shp\"))\n",
      "e_wed = data.WED(edges, coords)\n",
      "length = util.edge_length(e_wed)\n",
      "connected = util.check_connectivity(e_wed, length)\n",
      "print \"The eberly shapefile is a connected graph: {}\".format(connected)"
     ],
     "language": "python",
     "metadata": {},
     "outputs": [
      {
       "output_type": "stream",
       "stream": "stdout",
       "text": [
        "The eberly shapefile is a connected graph: False\n"
       ]
      }
     ],
     "prompt_number": 23
    }
   ],
   "metadata": {}
  }
 ]
}